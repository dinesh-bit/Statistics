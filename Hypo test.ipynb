{
 "cells": [
  {
   "cell_type": "code",
   "execution_count": 1,
   "id": "c3edb585",
   "metadata": {},
   "outputs": [],
   "source": [
    "import pandas as pd"
   ]
  },
  {
   "cell_type": "code",
   "execution_count": 2,
   "id": "0372946d",
   "metadata": {},
   "outputs": [],
   "source": [
    "df = pd.read_csv(\"UsedCars.csv\")"
   ]
  },
  {
   "cell_type": "code",
   "execution_count": 3,
   "id": "b8947e49",
   "metadata": {},
   "outputs": [
    {
     "data": {
      "text/html": [
       "<div>\n",
       "<style scoped>\n",
       "    .dataframe tbody tr th:only-of-type {\n",
       "        vertical-align: middle;\n",
       "    }\n",
       "\n",
       "    .dataframe tbody tr th {\n",
       "        vertical-align: top;\n",
       "    }\n",
       "\n",
       "    .dataframe thead th {\n",
       "        text-align: right;\n",
       "    }\n",
       "</style>\n",
       "<table border=\"1\" class=\"dataframe\">\n",
       "  <thead>\n",
       "    <tr style=\"text-align: right;\">\n",
       "      <th></th>\n",
       "      <th>Price</th>\n",
       "      <th>Age</th>\n",
       "      <th>KM</th>\n",
       "      <th>FuelType</th>\n",
       "      <th>HP</th>\n",
       "      <th>MetColor</th>\n",
       "      <th>Automatic</th>\n",
       "      <th>CC</th>\n",
       "      <th>Doors</th>\n",
       "      <th>Weight</th>\n",
       "    </tr>\n",
       "  </thead>\n",
       "  <tbody>\n",
       "    <tr>\n",
       "      <th>0</th>\n",
       "      <td>7450.0</td>\n",
       "      <td>65.0</td>\n",
       "      <td>82000.0</td>\n",
       "      <td>Petrol</td>\n",
       "      <td>86</td>\n",
       "      <td>1</td>\n",
       "      <td>0</td>\n",
       "      <td>1300</td>\n",
       "      <td>3</td>\n",
       "      <td>1015</td>\n",
       "    </tr>\n",
       "    <tr>\n",
       "      <th>1</th>\n",
       "      <td>7250.0</td>\n",
       "      <td>74.0</td>\n",
       "      <td>130025.0</td>\n",
       "      <td>Petrol</td>\n",
       "      <td>110</td>\n",
       "      <td>1</td>\n",
       "      <td>0</td>\n",
       "      <td>1600</td>\n",
       "      <td>3</td>\n",
       "      <td>1050</td>\n",
       "    </tr>\n",
       "    <tr>\n",
       "      <th>2</th>\n",
       "      <td>8950.0</td>\n",
       "      <td>80.0</td>\n",
       "      <td>64000.0</td>\n",
       "      <td>Petrol</td>\n",
       "      <td>110</td>\n",
       "      <td>0</td>\n",
       "      <td>0</td>\n",
       "      <td>1600</td>\n",
       "      <td>3</td>\n",
       "      <td>1055</td>\n",
       "    </tr>\n",
       "    <tr>\n",
       "      <th>3</th>\n",
       "      <td>11450.0</td>\n",
       "      <td>54.0</td>\n",
       "      <td>62987.0</td>\n",
       "      <td>Petrol</td>\n",
       "      <td>110</td>\n",
       "      <td>0</td>\n",
       "      <td>0</td>\n",
       "      <td>1600</td>\n",
       "      <td>5</td>\n",
       "      <td>1080</td>\n",
       "    </tr>\n",
       "    <tr>\n",
       "      <th>4</th>\n",
       "      <td>NaN</td>\n",
       "      <td>42.0</td>\n",
       "      <td>38932.0</td>\n",
       "      <td>Petrol</td>\n",
       "      <td>110</td>\n",
       "      <td>1</td>\n",
       "      <td>0</td>\n",
       "      <td>1600</td>\n",
       "      <td>3</td>\n",
       "      <td>1040</td>\n",
       "    </tr>\n",
       "    <tr>\n",
       "      <th>...</th>\n",
       "      <td>...</td>\n",
       "      <td>...</td>\n",
       "      <td>...</td>\n",
       "      <td>...</td>\n",
       "      <td>...</td>\n",
       "      <td>...</td>\n",
       "      <td>...</td>\n",
       "      <td>...</td>\n",
       "      <td>...</td>\n",
       "      <td>...</td>\n",
       "    </tr>\n",
       "    <tr>\n",
       "      <th>1441</th>\n",
       "      <td>8750.0</td>\n",
       "      <td>68.0</td>\n",
       "      <td>101889.0</td>\n",
       "      <td>petrol</td>\n",
       "      <td>110</td>\n",
       "      <td>1</td>\n",
       "      <td>0</td>\n",
       "      <td>1600</td>\n",
       "      <td>5</td>\n",
       "      <td>1075</td>\n",
       "    </tr>\n",
       "    <tr>\n",
       "      <th>1442</th>\n",
       "      <td>9950.0</td>\n",
       "      <td>62.0</td>\n",
       "      <td>109547.0</td>\n",
       "      <td>petrol</td>\n",
       "      <td>110</td>\n",
       "      <td>0</td>\n",
       "      <td>0</td>\n",
       "      <td>1600</td>\n",
       "      <td>5</td>\n",
       "      <td>1075</td>\n",
       "    </tr>\n",
       "    <tr>\n",
       "      <th>1443</th>\n",
       "      <td>9250.0</td>\n",
       "      <td>80.0</td>\n",
       "      <td>44444.0</td>\n",
       "      <td>Petrol</td>\n",
       "      <td>110</td>\n",
       "      <td>1</td>\n",
       "      <td>0</td>\n",
       "      <td>1600</td>\n",
       "      <td>3</td>\n",
       "      <td>1050</td>\n",
       "    </tr>\n",
       "    <tr>\n",
       "      <th>1444</th>\n",
       "      <td>12450.0</td>\n",
       "      <td>54.0</td>\n",
       "      <td>46230.0</td>\n",
       "      <td>Petrol</td>\n",
       "      <td>110</td>\n",
       "      <td>1</td>\n",
       "      <td>0</td>\n",
       "      <td>1600</td>\n",
       "      <td>3</td>\n",
       "      <td>1055</td>\n",
       "    </tr>\n",
       "    <tr>\n",
       "      <th>1445</th>\n",
       "      <td>8500.0</td>\n",
       "      <td>77.0</td>\n",
       "      <td>62285.0</td>\n",
       "      <td>Petrol</td>\n",
       "      <td>110</td>\n",
       "      <td>1</td>\n",
       "      <td>0</td>\n",
       "      <td>1600</td>\n",
       "      <td>5</td>\n",
       "      <td>1075</td>\n",
       "    </tr>\n",
       "  </tbody>\n",
       "</table>\n",
       "<p>1446 rows × 10 columns</p>\n",
       "</div>"
      ],
      "text/plain": [
       "        Price   Age        KM FuelType   HP  MetColor  Automatic    CC  Doors  \\\n",
       "0      7450.0  65.0   82000.0   Petrol   86         1          0  1300      3   \n",
       "1      7250.0  74.0  130025.0   Petrol  110         1          0  1600      3   \n",
       "2      8950.0  80.0   64000.0   Petrol  110         0          0  1600      3   \n",
       "3     11450.0  54.0   62987.0   Petrol  110         0          0  1600      5   \n",
       "4         NaN  42.0   38932.0   Petrol  110         1          0  1600      3   \n",
       "...       ...   ...       ...      ...  ...       ...        ...   ...    ...   \n",
       "1441   8750.0  68.0  101889.0   petrol  110         1          0  1600      5   \n",
       "1442   9950.0  62.0  109547.0   petrol  110         0          0  1600      5   \n",
       "1443   9250.0  80.0   44444.0   Petrol  110         1          0  1600      3   \n",
       "1444  12450.0  54.0   46230.0   Petrol  110         1          0  1600      3   \n",
       "1445   8500.0  77.0   62285.0   Petrol  110         1          0  1600      5   \n",
       "\n",
       "      Weight  \n",
       "0       1015  \n",
       "1       1050  \n",
       "2       1055  \n",
       "3       1080  \n",
       "4       1040  \n",
       "...      ...  \n",
       "1441    1075  \n",
       "1442    1075  \n",
       "1443    1050  \n",
       "1444    1055  \n",
       "1445    1075  \n",
       "\n",
       "[1446 rows x 10 columns]"
      ]
     },
     "execution_count": 3,
     "metadata": {},
     "output_type": "execute_result"
    }
   ],
   "source": [
    "df"
   ]
  },
  {
   "cell_type": "code",
   "execution_count": 9,
   "id": "5ff6edc5",
   "metadata": {},
   "outputs": [
    {
     "data": {
      "text/plain": [
       "Automatic\n",
       "0    10699.186166\n",
       "1    11224.625000\n",
       "Name: Price, dtype: float64"
      ]
     },
     "execution_count": 9,
     "metadata": {},
     "output_type": "execute_result"
    }
   ],
   "source": [
    "df['Price'].groupby(df['Automatic']).mean()"
   ]
  },
  {
   "cell_type": "code",
   "execution_count": 15,
   "id": "11cdeccc",
   "metadata": {},
   "outputs": [],
   "source": [
    "auto = df[df[\"Automatic\"]==1]\n",
    "manual = df[df[\"Automatic\"]==0]"
   ]
  },
  {
   "cell_type": "code",
   "execution_count": 16,
   "id": "bf639026",
   "metadata": {},
   "outputs": [
    {
     "data": {
      "text/html": [
       "<div>\n",
       "<style scoped>\n",
       "    .dataframe tbody tr th:only-of-type {\n",
       "        vertical-align: middle;\n",
       "    }\n",
       "\n",
       "    .dataframe tbody tr th {\n",
       "        vertical-align: top;\n",
       "    }\n",
       "\n",
       "    .dataframe thead th {\n",
       "        text-align: right;\n",
       "    }\n",
       "</style>\n",
       "<table border=\"1\" class=\"dataframe\">\n",
       "  <thead>\n",
       "    <tr style=\"text-align: right;\">\n",
       "      <th></th>\n",
       "      <th>Price</th>\n",
       "      <th>Age</th>\n",
       "      <th>KM</th>\n",
       "      <th>FuelType</th>\n",
       "      <th>HP</th>\n",
       "      <th>MetColor</th>\n",
       "      <th>Automatic</th>\n",
       "      <th>CC</th>\n",
       "      <th>Doors</th>\n",
       "      <th>Weight</th>\n",
       "    </tr>\n",
       "  </thead>\n",
       "  <tbody>\n",
       "    <tr>\n",
       "      <th>6</th>\n",
       "      <td>8250.0</td>\n",
       "      <td>70.0</td>\n",
       "      <td>59017.0</td>\n",
       "      <td>petrol</td>\n",
       "      <td>107</td>\n",
       "      <td>1</td>\n",
       "      <td>1</td>\n",
       "      <td>1600</td>\n",
       "      <td>3</td>\n",
       "      <td>1080</td>\n",
       "    </tr>\n",
       "    <tr>\n",
       "      <th>8</th>\n",
       "      <td>9950.0</td>\n",
       "      <td>65.0</td>\n",
       "      <td>65513.0</td>\n",
       "      <td>Petrol</td>\n",
       "      <td>110</td>\n",
       "      <td>1</td>\n",
       "      <td>1</td>\n",
       "      <td>1600</td>\n",
       "      <td>4</td>\n",
       "      <td>1070</td>\n",
       "    </tr>\n",
       "    <tr>\n",
       "      <th>11</th>\n",
       "      <td>9500.0</td>\n",
       "      <td>66.0</td>\n",
       "      <td>74963.0</td>\n",
       "      <td>Petrol</td>\n",
       "      <td>107</td>\n",
       "      <td>0</td>\n",
       "      <td>1</td>\n",
       "      <td>1600</td>\n",
       "      <td>3</td>\n",
       "      <td>1085</td>\n",
       "    </tr>\n",
       "    <tr>\n",
       "      <th>23</th>\n",
       "      <td>8950.0</td>\n",
       "      <td>75.0</td>\n",
       "      <td>102005.0</td>\n",
       "      <td>Petrol</td>\n",
       "      <td>107</td>\n",
       "      <td>1</td>\n",
       "      <td>1</td>\n",
       "      <td>1600</td>\n",
       "      <td>5</td>\n",
       "      <td>1105</td>\n",
       "    </tr>\n",
       "    <tr>\n",
       "      <th>32</th>\n",
       "      <td>20500.0</td>\n",
       "      <td>20.0</td>\n",
       "      <td>20000.0</td>\n",
       "      <td>Petrol</td>\n",
       "      <td>110</td>\n",
       "      <td>0</td>\n",
       "      <td>1</td>\n",
       "      <td>1600</td>\n",
       "      <td>5</td>\n",
       "      <td>1165</td>\n",
       "    </tr>\n",
       "    <tr>\n",
       "      <th>...</th>\n",
       "      <td>...</td>\n",
       "      <td>...</td>\n",
       "      <td>...</td>\n",
       "      <td>...</td>\n",
       "      <td>...</td>\n",
       "      <td>...</td>\n",
       "      <td>...</td>\n",
       "      <td>...</td>\n",
       "      <td>...</td>\n",
       "      <td>...</td>\n",
       "    </tr>\n",
       "    <tr>\n",
       "      <th>1330</th>\n",
       "      <td>20950.0</td>\n",
       "      <td>14.0</td>\n",
       "      <td>5278.0</td>\n",
       "      <td>Petrol</td>\n",
       "      <td>110</td>\n",
       "      <td>1</td>\n",
       "      <td>1</td>\n",
       "      <td>1600</td>\n",
       "      <td>4</td>\n",
       "      <td>1150</td>\n",
       "    </tr>\n",
       "    <tr>\n",
       "      <th>1334</th>\n",
       "      <td>20500.0</td>\n",
       "      <td>26.0</td>\n",
       "      <td>56000.0</td>\n",
       "      <td>Petrol</td>\n",
       "      <td>110</td>\n",
       "      <td>1</td>\n",
       "      <td>1</td>\n",
       "      <td>1600</td>\n",
       "      <td>5</td>\n",
       "      <td>1180</td>\n",
       "    </tr>\n",
       "    <tr>\n",
       "      <th>1370</th>\n",
       "      <td>15500.0</td>\n",
       "      <td>25.0</td>\n",
       "      <td>49163.0</td>\n",
       "      <td>Petrol</td>\n",
       "      <td>110</td>\n",
       "      <td>0</td>\n",
       "      <td>1</td>\n",
       "      <td>1600</td>\n",
       "      <td>5</td>\n",
       "      <td>1165</td>\n",
       "    </tr>\n",
       "    <tr>\n",
       "      <th>1416</th>\n",
       "      <td>8750.0</td>\n",
       "      <td>74.0</td>\n",
       "      <td>42317.0</td>\n",
       "      <td>petrol</td>\n",
       "      <td>107</td>\n",
       "      <td>1</td>\n",
       "      <td>1</td>\n",
       "      <td>1600</td>\n",
       "      <td>5</td>\n",
       "      <td>1100</td>\n",
       "    </tr>\n",
       "    <tr>\n",
       "      <th>1440</th>\n",
       "      <td>7950.0</td>\n",
       "      <td>78.0</td>\n",
       "      <td>90011.0</td>\n",
       "      <td>Petrol</td>\n",
       "      <td>86</td>\n",
       "      <td>0</td>\n",
       "      <td>1</td>\n",
       "      <td>1300</td>\n",
       "      <td>3</td>\n",
       "      <td>1045</td>\n",
       "    </tr>\n",
       "  </tbody>\n",
       "</table>\n",
       "<p>80 rows × 10 columns</p>\n",
       "</div>"
      ],
      "text/plain": [
       "        Price   Age        KM FuelType   HP  MetColor  Automatic    CC  Doors  \\\n",
       "6      8250.0  70.0   59017.0   petrol  107         1          1  1600      3   \n",
       "8      9950.0  65.0   65513.0   Petrol  110         1          1  1600      4   \n",
       "11     9500.0  66.0   74963.0   Petrol  107         0          1  1600      3   \n",
       "23     8950.0  75.0  102005.0   Petrol  107         1          1  1600      5   \n",
       "32    20500.0  20.0   20000.0   Petrol  110         0          1  1600      5   \n",
       "...       ...   ...       ...      ...  ...       ...        ...   ...    ...   \n",
       "1330  20950.0  14.0    5278.0   Petrol  110         1          1  1600      4   \n",
       "1334  20500.0  26.0   56000.0   Petrol  110         1          1  1600      5   \n",
       "1370  15500.0  25.0   49163.0   Petrol  110         0          1  1600      5   \n",
       "1416   8750.0  74.0   42317.0   petrol  107         1          1  1600      5   \n",
       "1440   7950.0  78.0   90011.0   Petrol   86         0          1  1300      3   \n",
       "\n",
       "      Weight  \n",
       "6       1080  \n",
       "8       1070  \n",
       "11      1085  \n",
       "23      1105  \n",
       "32      1165  \n",
       "...      ...  \n",
       "1330    1150  \n",
       "1334    1180  \n",
       "1370    1165  \n",
       "1416    1100  \n",
       "1440    1045  \n",
       "\n",
       "[80 rows x 10 columns]"
      ]
     },
     "execution_count": 16,
     "metadata": {},
     "output_type": "execute_result"
    }
   ],
   "source": [
    "auto"
   ]
  },
  {
   "cell_type": "code",
   "execution_count": 21,
   "id": "3bae524b",
   "metadata": {},
   "outputs": [
    {
     "data": {
      "text/plain": [
       "Ttest_indResult(statistic=nan, pvalue=nan)"
      ]
     },
     "execution_count": 21,
     "metadata": {},
     "output_type": "execute_result"
    }
   ],
   "source": [
    "from scipy.stats import ttest_ind\n",
    "ttest_ind(auto.Price, manual.Price, equal_var=False)"
   ]
  },
  {
   "cell_type": "code",
   "execution_count": 22,
   "id": "cab7724d",
   "metadata": {},
   "outputs": [
    {
     "data": {
      "text/plain": [
       "Ttest_indResult(statistic=1.249930314314651, pvalue=0.21461957865398504)"
      ]
     },
     "execution_count": 22,
     "metadata": {},
     "output_type": "execute_result"
    }
   ],
   "source": [
    "from scipy.stats import ttest_ind\n",
    "ttest_ind(auto.dropna()[\"Price\"], manual.dropna()[\"Price\"], equal_var=False)"
   ]
  },
  {
   "cell_type": "code",
   "execution_count": null,
   "id": "d5f9b182",
   "metadata": {},
   "outputs": [],
   "source": [
    "# p_value is greater than 0.05 so there is signoficance difference the avg price of manual and atomatic"
   ]
  },
  {
   "cell_type": "code",
   "execution_count": 29,
   "id": "858d89d4",
   "metadata": {},
   "outputs": [
    {
     "data": {
      "text/plain": [
       "Petrol                  1073\n",
       "petrol                   199\n",
       "Diesel                   157\n",
       "CNG                        9\n",
       "CompressedNaturalGas       4\n",
       "methane                    4\n",
       "Name: FuelType, dtype: int64"
      ]
     },
     "execution_count": 29,
     "metadata": {},
     "output_type": "execute_result"
    }
   ],
   "source": [
    "df[\"FuelType\"].value_counts()"
   ]
  },
  {
   "cell_type": "markdown",
   "id": "9acbe336",
   "metadata": {},
   "source": [
    "#### ANOVA TEST"
   ]
  },
  {
   "cell_type": "code",
   "execution_count": 1,
   "id": "957456cf",
   "metadata": {},
   "outputs": [],
   "source": [
    "from scipy.stats import f_oneway"
   ]
  },
  {
   "cell_type": "code",
   "execution_count": 49,
   "id": "9c76108a",
   "metadata": {},
   "outputs": [],
   "source": [
    "df[\"FuelType\"] = df[\"FuelType\"].replace([\"diesel\"], \"Diesel\")\n",
    "df[\"FuelType\"] = df[\"FuelType\"].replace([\"petrol\"], \"Petrol\")"
   ]
  },
  {
   "cell_type": "code",
   "execution_count": 50,
   "id": "52358170",
   "metadata": {},
   "outputs": [],
   "source": [
    "Petrol = df[df[\"FuelType\"]==\"Petrol\"]\n",
    "Diesel = df[df[\"FuelType\"]==\"Diesel\"]\n",
    "CNG = df[df[\"FuelType\"]==\"CNG\"]\n",
    "CompressedNaturalGas = df[df[\"FuelType\"]==\"CompressedNaturalGas\"]\n",
    "methane = df[df[\"FuelType\"]==\"methane\"]"
   ]
  },
  {
   "cell_type": "code",
   "execution_count": 51,
   "id": "6ec7032b",
   "metadata": {},
   "outputs": [
    {
     "data": {
      "text/plain": [
       "FuelType\n",
       "CNG                      9378.888889\n",
       "CompressedNaturalGas     9537.500000\n",
       "Diesel                  11275.038462\n",
       "Petrol                  10678.592417\n",
       "methane                  9400.000000\n",
       "Name: Price, dtype: float64"
      ]
     },
     "execution_count": 51,
     "metadata": {},
     "output_type": "execute_result"
    }
   ],
   "source": [
    "df[\"Price\"].groupby(df[\"FuelType\"]).mean()"
   ]
  },
  {
   "cell_type": "code",
   "execution_count": 52,
   "id": "f2358656",
   "metadata": {},
   "outputs": [
    {
     "data": {
      "text/plain": [
       "F_onewayResult(statistic=1.557775373266618, pvalue=0.18317706455253022)"
      ]
     },
     "execution_count": 52,
     "metadata": {},
     "output_type": "execute_result"
    }
   ],
   "source": [
    "f_oneway(Petrol.dropna()[\"Price\"], \n",
    "         Diesel.dropna()[\"Price\"],\n",
    "         CNG.dropna()[\"Price\"],\n",
    "         CompressedNaturalGas.dropna()[\"Price\"], \n",
    "         methane.dropna()[\"Price\"])"
   ]
  },
  {
   "cell_type": "code",
   "execution_count": 36,
   "id": "41243bad",
   "metadata": {},
   "outputs": [],
   "source": [
    "# p_value is greater than 0.05 so there is significance difference the avg price of different fueltype"
   ]
  },
  {
   "cell_type": "code",
   "execution_count": 38,
   "id": "a344015c",
   "metadata": {},
   "outputs": [
    {
     "data": {
      "text/plain": [
       "1    975\n",
       "0    471\n",
       "Name: MetColor, dtype: int64"
      ]
     },
     "execution_count": 38,
     "metadata": {},
     "output_type": "execute_result"
    }
   ],
   "source": [
    "df[\"MetColor\"].value_counts()"
   ]
  },
  {
   "cell_type": "code",
   "execution_count": 40,
   "id": "540720bb",
   "metadata": {},
   "outputs": [
    {
     "data": {
      "text/plain": [
       "MetColor\n",
       "0    10158.690832\n",
       "1    11003.853608\n",
       "Name: Price, dtype: float64"
      ]
     },
     "execution_count": 40,
     "metadata": {},
     "output_type": "execute_result"
    }
   ],
   "source": [
    "df.Price.groupby(df.MetColor).mean()"
   ]
  },
  {
   "cell_type": "code",
   "execution_count": 41,
   "id": "d8bfc104",
   "metadata": {},
   "outputs": [],
   "source": [
    "MetColor0 = df[df[\"MetColor\"]==0]\n",
    "MetColor1 = df[df[\"MetColor\"]==1]"
   ]
  },
  {
   "cell_type": "code",
   "execution_count": 42,
   "id": "02771b4b",
   "metadata": {},
   "outputs": [
    {
     "data": {
      "text/plain": [
       "Ttest_indResult(statistic=-4.148701898199715, pvalue=3.5400828979506025e-05)"
      ]
     },
     "execution_count": 42,
     "metadata": {},
     "output_type": "execute_result"
    }
   ],
   "source": [
    "ttest_ind(MetColor0.dropna()[\"Price\"], MetColor1.dropna()[\"Price\"])"
   ]
  },
  {
   "cell_type": "code",
   "execution_count": 43,
   "id": "fb0f6660",
   "metadata": {},
   "outputs": [
    {
     "data": {
      "text/plain": [
       "F_onewayResult(statistic=17.211727440125987, pvalue=3.5400828979534804e-05)"
      ]
     },
     "execution_count": 43,
     "metadata": {},
     "output_type": "execute_result"
    }
   ],
   "source": [
    "f_oneway(MetColor0.dropna()[\"Price\"], \n",
    "         MetColor1.dropna()[\"Price\"])"
   ]
  },
  {
   "cell_type": "code",
   "execution_count": null,
   "id": "dbc755a9",
   "metadata": {},
   "outputs": [],
   "source": [
    "# p_value is less than 0.05 reject null hypothesis"
   ]
  },
  {
   "cell_type": "code",
   "execution_count": 53,
   "id": "0f011b0d",
   "metadata": {},
   "outputs": [
    {
     "data": {
      "text/plain": [
       "array(['Petrol', 'CNG', 'Diesel', 'CompressedNaturalGas', 'methane'],\n",
       "      dtype=object)"
      ]
     },
     "execution_count": 53,
     "metadata": {},
     "output_type": "execute_result"
    }
   ],
   "source": [
    "df.FuelType.unique()"
   ]
  },
  {
   "cell_type": "code",
   "execution_count": 54,
   "id": "d920e0af",
   "metadata": {},
   "outputs": [
    {
     "data": {
      "text/plain": [
       "5"
      ]
     },
     "execution_count": 54,
     "metadata": {},
     "output_type": "execute_result"
    }
   ],
   "source": [
    "df.FuelType.nunique()"
   ]
  },
  {
   "cell_type": "code",
   "execution_count": null,
   "id": "c967b552",
   "metadata": {},
   "outputs": [],
   "source": []
  },
  {
   "cell_type": "code",
   "execution_count": null,
   "id": "cad1c397",
   "metadata": {},
   "outputs": [],
   "source": []
  }
 ],
 "metadata": {
  "kernelspec": {
   "display_name": "Python 3",
   "language": "python",
   "name": "python3"
  },
  "language_info": {
   "codemirror_mode": {
    "name": "ipython",
    "version": 3
   },
   "file_extension": ".py",
   "mimetype": "text/x-python",
   "name": "python",
   "nbconvert_exporter": "python",
   "pygments_lexer": "ipython3",
   "version": "3.8.8"
  }
 },
 "nbformat": 4,
 "nbformat_minor": 5
}
